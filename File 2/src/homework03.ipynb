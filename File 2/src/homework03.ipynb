{
 "cells": [
  {
   "cell_type": "markdown",
   "id": "ea59a22e",
   "metadata": {},
   "source": [
    "# Homework 03"
   ]
  },
  {
   "cell_type": "markdown",
   "id": "2d9478d7",
   "metadata": {},
   "source": [
    "\n",
    "## Part 1 - Questions\n",
    "\n",
    "### Question 1: \n",
    "\n",
    "Who are the top 10 streamers based on followers?\n",
    "\n",
    "* Who (population): inverstor\n",
    "* What (subject, discipline): entertainment business\n",
    "* Where (location): media channels\n",
    "* When (snapshot, longitudinal): snapshot\n",
    "* How much data do you need to do the analysis/work: 1000\n",
    "\n",
    "### Question 2: \n",
    "\n",
    "Which language does the streamers use most?\n",
    "\n",
    "* Who (population): investor\n",
    "* What (subject, discipline): entertainment business\n",
    "* Where (location): media channels\n",
    "* When (snapshot, longitudinal): snapshot\n",
    "* How much data do you need to do the analysis/work: 1000\n",
    "\n",
    "### Who Might Collect Relevant Data / What Articles or Publications Cite a Relevant Data Set?\n",
    "\n",
    "* People who want to invest in the Esports scene.\n",
    "* Entertainment, media and business relevant articles."
   ]
  },
  {
   "cell_type": "markdown",
   "id": "aa0423bd",
   "metadata": {},
   "source": [
    "## Part 2 - Selecting a Data Set, Adding Documentation\n",
    "\n",
    "\n",
    "\n",
    "1. Name / Title: Top Streamers on Twitch\n",
    "2. Link to Data: https://www.kaggle.com/aayushmishra1512/twitchdata/version/3\n",
    "3. Source / Origin: \n",
    "\t* Author or Creator: Aayush Mishra\n",
    "\t* Publication Date: 2020-08-23\n",
    "\t* Publisher: Kaggle\n",
    "\t* Version or Data Accessed: Version 3\n",
    "4. License: CC0: Public Domain\n",
    "5. Can You Use this Data Set for Your Intended Use Case?\n",
    "Yes, this data set contains top 1000 streamers on Twitch with data of number of followers and language, etc."
   ]
  },
  {
   "cell_type": "markdown",
   "id": "97936030",
   "metadata": {},
   "source": [
    "## Format\n",
    "\n"
   ]
  },
  {
   "cell_type": "markdown",
   "id": "794d705a",
   "metadata": {},
   "source": [
    "\n",
    "### Overview\n",
    "\n",
    "* Format: CSV File\n",
    "* Size: 82KB\n",
    "* Number of Records: 1000 rows (without header)\n",
    "\n"
   ]
  },
  {
   "cell_type": "markdown",
   "id": "945fe331",
   "metadata": {},
   "source": [
    "### Sample of Data\n",
    "\n",
    "\n"
   ]
  },
  {
   "cell_type": "code",
   "execution_count": 42,
   "id": "5b2b7f3e",
   "metadata": {},
   "outputs": [
    {
     "name": "stdout",
     "output_type": "stream",
     "text": [
      "Channel,Watch time(Minutes),Stream time(minutes),Peak viewers,Average viewers,Followers,Followers gained,Views gained,Partnered,Mature,Language\n",
      "\n",
      "xQcOW,6196161750,215250,222720,27716,3246298,1734810,93036735,True,False,English\n",
      "\n",
      "summit1g,6091677300,211845,310998,25610,5310163,1370184,89705964,True,False,English\n",
      "\n",
      "Gaules,5644590915,515280,387315,10976,1767635,1023779,102611607,True,True,Portuguese\n",
      "\n"
     ]
    }
   ],
   "source": [
    "# TODO show a few lines of data from the actual file\n",
    "\n",
    "# Use \"regular\" Python to do this in this code block\n",
    "# Assume that jupyter-lab was started in your root directory\n",
    "with open('../data/raw/twitchdata-update.csv', 'r') as f:\n",
    "    lines = f.readlines()\n",
    "    for i in range(4):\n",
    "        line = lines[i]\n",
    "        print(line)"
   ]
  },
  {
   "cell_type": "markdown",
   "id": "cfb101dc",
   "metadata": {},
   "source": [
    "\n",
    "### Fields or Column Headers\n",
    "\n",
    "* Field/Column 1: Channel - string\n",
    "* Field/Column 2: Watch time(Minutes) - int\n",
    "* Field/Column 3: Stream time(minutes) - int\n",
    "* Field/Column 4: Peak viewers - int\n",
    "* Field/Column 5: Average viewers - int\n",
    "* Field/Column 6: Followers - int\n",
    "* Field/Column 7: Followers gained - int\n",
    "* Field/Column 8: Views gained - int\n",
    "* Field/Column 9: Partnered - boolean\n",
    "* Field/Column 10: Mature - boolean\n",
    "* Field/Column 11: Language - string"
   ]
  },
  {
   "cell_type": "markdown",
   "id": "b101e7e6",
   "metadata": {},
   "source": [
    "## Part 3 - Extract / Transform\n",
    "\n",
    "TODO describe your process for extracting, transforming, cleaning your incoming data:\n",
    "\n",
    "* what columns you'll be using (extracting) from your dataset\n",
    "* how you're planning to convert the data into analogous python types / how you'll deal with type issues (for example, you may want a column that's numeric, but the data contains a label, such as 4 months) \n",
    "* any other kind of cleaning (_normalizing_ data, filling in missing values, etc.) that you'll have to perform\n"
   ]
  },
  {
   "cell_type": "code",
   "execution_count": 44,
   "id": "4d61093f",
   "metadata": {},
   "outputs": [],
   "source": [
    "# TODO write code here!\n",
    "# To answer my questions,\n",
    "# I would like to extrct three columns, which are channel(string), followers(int), and language(string).\n",
    "# I transform the followers from string to in type.\n",
    "# Besides, through scanning, there is no missing value. I can also directly convert types without issue.\n",
    "\n",
    "import csv\n",
    "\n",
    "with open('../data/raw/twitchdata-update.csv', 'r') as f:\n",
    "    data = [(line['Channel'], int(line['Followers']), line['Language']) for line in csv.DictReader(f)]"
   ]
  },
  {
   "cell_type": "markdown",
   "id": "027aae67",
   "metadata": {},
   "source": [
    "## Part 4 - Descriptive Statistics\n",
    "\n",
    "### Analysis on Numeric Data\n",
    "\n",
    "#### Central Tendency\n",
    "\n"
   ]
  },
  {
   "cell_type": "code",
   "execution_count": 67,
   "id": "c50d140d",
   "metadata": {},
   "outputs": [
    {
     "name": "stdout",
     "output_type": "stream",
     "text": [
      "Mean: 570054.068\n",
      "Mode: 3246298\n",
      "Median: 318063.0\n"
     ]
    }
   ],
   "source": [
    "# TODO: copy and paste your results here\n",
    "import numpy as np\n",
    "import statistics\n",
    "\n",
    "channel_name, number_of_followers, language_used = map(list, zip(*data))\n",
    "followers_mean = mean(number_of_followers)\n",
    "followers_mode = mode(number_of_followers)\n",
    "followers_median = median(number_of_followers)\n",
    "print(f'Mean: {followers_mean}')\n",
    "print(f'Mode: {followers_mode}')\n",
    "print(f'Median: {followers_median}')"
   ]
  },
  {
   "cell_type": "markdown",
   "id": "a1518705",
   "metadata": {},
   "source": [
    "#### Dispersion"
   ]
  },
  {
   "cell_type": "code",
   "execution_count": 68,
   "id": "cbe27cd3",
   "metadata": {},
   "outputs": [
    {
     "name": "stdout",
     "output_type": "stream",
     "text": [
      "Variance: 646433785192.3855\n",
      "Standard deviation: 804011.0603669488\n"
     ]
    }
   ],
   "source": [
    "# TODO: copy and paste your results here\n",
    "st_dev = np.std(number_of_followers)\n",
    "variance = np.var(number_of_followers)\n",
    "print(f'Variance: {variance}')\n",
    "print(f'Standard deviation: {st_dev}')"
   ]
  },
  {
   "cell_type": "markdown",
   "id": "1681bce4",
   "metadata": {},
   "source": [
    "#### Outliers\n"
   ]
  },
  {
   "cell_type": "code",
   "execution_count": 77,
   "id": "f3385b77",
   "metadata": {},
   "outputs": [
    {
     "name": "stdout",
     "output_type": "stream",
     "text": [
      "Lower bound: -510132.75\n",
      "Upper bound: 1305011.25\n",
      "Outliers: [3246298, 5310163, 1767635, 3944850, 8938903, 1563438, 4074287, 3530767, 2607076, 5265659, 2666382, 4487489, 5751354, 3983847, 2911316, 2786162, 3445134, 2411995, 4450718, 3795667, 1792625, 1724316, 2401580, 4115083, 6726893, 1379123, 3135667, 1894953, 1878416, 2942212, 1409120, 2035180, 1478270, 1607134, 1659108, 1660204, 1308165, 2355063, 1801697, 1501197, 3611359, 4520305, 5367605, 2641880, 7744066, 1549722, 2601858, 1796619, 2138294, 2009972, 1461767, 2149306, 1327059, 1865296, 1707804, 2652018, 1852272, 1739112, 1372290, 1422862, 1519266, 1748928, 1701314, 2716270, 2951980, 1363222, 1536757, 1472104, 1476226, 3558217, 1717150, 1681884, 1448018, 1585519, 1389835, 1681615, 3000509, 1340283, 1433703, 1651212, 1751290, 1869993, 1368076, 1874932, 1677690, 2137521, 1474090, 2115596, 1866339]\n"
     ]
    }
   ],
   "source": [
    "# TODO: copy and paste your results here\n",
    "sorted(number_of_followers)\n",
    "q1, q3= np.percentile(number_of_followers,[25,75])\n",
    "iqr = q3 - q1\n",
    "lower_bound = q1 -(1.5 * iqr) \n",
    "upper_bound = q3 +(1.5 * iqr)\n",
    "outliers = list(filter(lambda x: x < lower_bound or x > upper_bound, number_of_followers))\n",
    "print(f'Lower bound: {lower_bound}')\n",
    "print(f'Upper bound: {upper_bound}')\n",
    "print(f'Outliers: {outliers}')"
   ]
  },
  {
   "cell_type": "markdown",
   "id": "2eb1ec4b",
   "metadata": {},
   "source": [
    "#### Other\n"
   ]
  },
  {
   "cell_type": "code",
   "execution_count": 118,
   "id": "35ecfdae",
   "metadata": {},
   "outputs": [
    {
     "name": "stdout",
     "output_type": "stream",
     "text": [
      "{'Tfue': 8938903, 'shroud': 7744066, 'Myth': 6726893, 'Rubius': 5751354, 'pokimane': 5367605, 'summit1g': 5310163, 'TimTheTatman': 5265659, 'dakotaz': 4520305, 'Riot Games (riotgames)': 4487489, 'DrDisrespect': 4450718}\n"
     ]
    }
   ],
   "source": [
    "# TODO: copy and paste your results here\n",
    "my_dict = dict(zip(channel_name, number_of_followers))\n",
    "top10_channel = sorted(my_dict, key=my_dict.get, reverse=True)[:10]\n",
    "top10_value = []\n",
    "for i in top10_channel:\n",
    "    value = my_dict.get(i)\n",
    "    top10_value.append(value)\n",
    "top10 = dict(zip(top10_channel, top10_value))\n",
    "print(top10)"
   ]
  },
  {
   "cell_type": "markdown",
   "id": "5180debe",
   "metadata": {},
   "source": [
    "###  Analysis on Categorical Data"
   ]
  },
  {
   "cell_type": "markdown",
   "id": "24c42820",
   "metadata": {},
   "source": [
    "#### Frequency"
   ]
  },
  {
   "cell_type": "code",
   "execution_count": 87,
   "id": "8c0342f8",
   "metadata": {},
   "outputs": [
    {
     "name": "stdout",
     "output_type": "stream",
     "text": [
      "{'English': 485, 'Portuguese': 61, 'Spanish': 68, 'German': 49, 'Korean': 77, 'French': 66, 'Russian': 74, 'Japanese': 10, 'Chinese': 30, 'Czech': 6, 'Turkish': 22, 'Italian': 17, 'Polish': 12, 'Thai': 11, 'Arabic': 5, 'Slovak': 1, 'Other': 1, 'Hungarian': 2, 'Greek': 1, 'Finnish': 1, 'Swedish': 1}\n"
     ]
    }
   ],
   "source": [
    "# TODO: copy and paste your results here\n",
    "\n",
    "# stores the frequency of elements\n",
    "freq = {} \n",
    "counting = [freq.update({x: language_used.count(x)}) for x in language_used]\n",
    "print(freq)"
   ]
  },
  {
   "cell_type": "markdown",
   "id": "dca7d1c8",
   "metadata": {},
   "source": [
    "#### Unique Values"
   ]
  },
  {
   "cell_type": "code",
   "execution_count": 88,
   "id": "607dfadc",
   "metadata": {},
   "outputs": [
    {
     "name": "stdout",
     "output_type": "stream",
     "text": [
      "Swedish\n",
      "Turkish\n",
      "Polish\n",
      "Czech\n",
      "Japanese\n",
      "Korean\n",
      "English\n",
      "Russian\n",
      "German\n",
      "French\n",
      "Slovak\n",
      "Finnish\n",
      "Portuguese\n",
      "Thai\n",
      "Arabic\n",
      "Spanish\n",
      "Chinese\n",
      "Italian\n",
      "Greek\n",
      "Other\n",
      "Hungarian\n"
     ]
    }
   ],
   "source": [
    "# TODO: copy and paste your results here\n",
    "list_set = set(language_used)\n",
    "unique_list = (list(list_set))\n",
    "for x in unique_list:\n",
    "        print(x)"
   ]
  },
  {
   "cell_type": "markdown",
   "id": "9c10c1b4",
   "metadata": {},
   "source": [
    "## Part 5 - Visualizations\n",
    "\n"
   ]
  },
  {
   "cell_type": "code",
   "execution_count": 136,
   "id": "9a033228",
   "metadata": {},
   "outputs": [
    {
     "data": {
      "image/png": "[encoded data removed]",
      "text/plain": [
       "<Figure size 1800x360 with 1 Axes>"
      ]
     },
     "metadata": {
      "needs_background": "light"
     },
     "output_type": "display_data"
    },
    {
     "data": {
      "image/png": "[encoded data removed]",
      "text/plain": [
       "<Figure size 1800x360 with 1 Axes>"
      ]
     },
     "metadata": {
      "needs_background": "light"
     },
     "output_type": "display_data"
    }
   ],
   "source": [
    "# TODO: add visualizations here\n",
    "import matplotlib.pyplot as plt\n",
    "\n",
    "# Top 10 channel based on followers\n",
    "\n",
    "keys = top10.keys()\n",
    "values = top10.values()\n",
    "plt.figure(figsize=(25,5))\n",
    "plt.bar(keys, values)\n",
    "plt.xlabel('Channel name', fontsize=15) \n",
    "plt.ylabel('Number of Followers', fontsize=15) \n",
    "plt.title(\"Top 10 channel based on followers\", fontsize=20)\n",
    "plt.show()\n",
    "\n",
    "# Frequency of language used by channel\n",
    "keys = freq.keys()\n",
    "values = freq.values()\n",
    "plt.figure(figsize=(25,5))\n",
    "plt.bar(keys, values)\n",
    "plt.xlabel('Language', fontsize=15) \n",
    "plt.ylabel('Frequency', fontsize=15) \n",
    "plt.title(\"Frequency of language used by channel\", fontsize=20)\n",
    "plt.show()"
   ]
  },
  {
   "cell_type": "markdown",
   "id": "6788b942",
   "metadata": {},
   "source": [
    "TODO Describe the visualizations in the previous cell\n"
   ]
  },
  {
   "cell_type": "markdown",
   "id": "30beb38c",
   "metadata": {},
   "source": [
    "## Part 6 - Conclusion\n",
    "\n",
    "TODO: write your conclusion here (interpret results of calculations; does it help answer your original questions?)\n",
    "\n",
    "#### Question 1: \n",
    "Who are the top 10 streamers based on followers?\n",
    "#### Answer 1:\n",
    "I could find out the top 10 streamers by first extracting the columns of channel and followers and make them into a dictionary. And sort the dictionary based on the values in decreasing order and find out the first ten. So we can find the top 10 streamers are: {'Tfue': 8938903, 'shroud': 7744066, 'Myth': 6726893, 'Rubius': 5751354, 'pokimane': 5367605, 'summit1g': 5310163, 'TimTheTatman': 5265659, 'dakotaz': 4520305, 'Riot Games (riotgames)': 4487489, 'DrDisrespect': 4450718}.\n",
    "\n",
    "#### Question 2: \n",
    "Which language does the streamers use most?\n",
    "#### Answer 2: \n",
    "I could find out the most frequent used language by first extracting the column of language into a list and calculate the frequency of each language in the list. And it turns out that the streamers mostly use English."
   ]
  },
  {
   "cell_type": "markdown",
   "id": "36f9db9a-cf16-4956-b671-9e4ddd373c0a",
   "metadata": {},
   "source": [
    "## Part 7 - Heights and Weights\n",
    "\n",
    "TODO: add your code cells below this!"
   ]
  },
  {
   "cell_type": "code",
   "execution_count": 142,
   "id": "cdc61eb0-13f7-47ce-98db-5cd2e7cd7db2",
   "metadata": {},
   "outputs": [
    {
     "name": "stdout",
     "output_type": "stream",
     "text": [
      "No missing value.\n",
      "[[1.         0.76046219]\n",
      " [0.76046219 1.        ]]\n"
     ]
    },
    {
     "data": {
      "image/png": "[encoded data removed]",
      "text/plain": [
       "<Figure size 432x288 with 1 Axes>"
      ]
     },
     "metadata": {
      "needs_background": "light"
     },
     "output_type": "display_data"
    }
   ],
   "source": [
    "# field names for height (in inches): HEIGHTTC_A\n",
    "# field names for weight (in pounds): WEIGHTLBTC_A\n",
    "import numpy as np\n",
    "import matplotlib.pyplot as plt\n",
    "\n",
    "with open('../data/raw/adult19.csv','r') as f:\n",
    "    reader = list(csv.reader(f))\n",
    "weight = []\n",
    "height = []\n",
    "missing_value = False\n",
    "for row in reader[1:]:\n",
    "    if np.isnan(int(row[50])) or np.isnan(int(row[49])):\n",
    "        missing_value = True\n",
    "    else:\n",
    "        weight.append(int(row[49]))\n",
    "        height.append(int(row[50]))\n",
    "\n",
    "if missing_value is True:\n",
    "    print(\"There are missing values.\")\n",
    "else:\n",
    "    print(\"No missing value.\")\n",
    "\n",
    "arr = np.array([weight, height]) \n",
    "print(np.corrcoef(arr))\n",
    "\n",
    "weight_new = [w + np.random.uniform(-0.8, 0.8) for w in weight]\n",
    "heights_new = [h + np.random.uniform(-0.8, 0.8) for h in height]\n",
    "plt.scatter(weight_new, heights_new, alpha=0.01)\n",
    "plt.xlabel('WEIGHTLBTC_A')\n",
    "plt.ylabel('HEIGHTTC_A') \n",
    "plt.title(\"Relationship between weight and height\")\n",
    "plt.show()"
   ]
  },
  {
   "cell_type": "code",
   "execution_count": null,
   "id": "24c10e95-b0cc-4bb5-87d9-cad9e796fa76",
   "metadata": {},
   "outputs": [],
   "source": []
  }
 ],
 "metadata": {
  "kernelspec": {
   "display_name": "Python 3 (ipykernel)",
   "language": "python",
   "name": "python3"
  },
  "language_info": {
   "codemirror_mode": {
    "name": "ipython",
    "version": 3
   },
   "file_extension": ".py",
   "mimetype": "text/x-python",
   "name": "python",
   "nbconvert_exporter": "python",
   "pygments_lexer": "ipython3",
   "version": "3.9.7"
  }
 },
 "nbformat": 4,
 "nbformat_minor": 5
}
